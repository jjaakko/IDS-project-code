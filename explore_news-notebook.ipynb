{
 "cells": [
  {
   "cell_type": "code",
   "execution_count": null,
   "metadata": {},
   "outputs": [],
   "source": [
    "import pandas as pd\n",
    "import numpy as np\n",
    "import requests\n",
    "from bs4 import BeautifulSoup"
   ]
  },
  {
   "cell_type": "code",
   "execution_count": null,
   "metadata": {},
   "outputs": [],
   "source": [
    "df = pd.read_json(\"fake_news_reddit_cikm20.json\")"
   ]
  },
  {
   "cell_type": "code",
   "execution_count": null,
   "metadata": {},
   "outputs": [],
   "source": [
    "r = np.random.RandomState(0)\n",
    "random_perm = r.permutation(df.shape[0])\n",
    "random_indices = random_perm[0:200]"
   ]
  },
  {
   "cell_type": "code",
   "execution_count": null,
   "metadata": {},
   "outputs": [],
   "source": [
    "r = requests.get(\"http://www.huffingtonpost.co.uk/2014/06/06/partially-taxidermied-african-dwarf-crocodile-scottish-golf-course-picture_n_5460051.html\")\n",
    "soup = BeautifulSoup(r.text)"
   ]
  },
  {
   "cell_type": "code",
   "execution_count": null,
   "metadata": {},
   "outputs": [],
   "source": [
    "# Request for given number of articles.\n",
    "# Usde parallel requests to speed things up.\n",
    "\n",
    "import asyncio\n",
    "import aiohttp\n",
    "\n",
    "async def get_url(index):\n",
    "    try:\n",
    "        async with aiohttp.ClientSession() as session:\n",
    "            async with session.get(url=df[\"url\"][index], timeout=20) as response:\n",
    "                resp = await response.read()\n",
    "                print(f\"Succesfully got {df['url'][index]}\")\n",
    "                return index, resp\n",
    "    except Exception as e:\n",
    "        print(f\"index:{index}, Unable to get url {df['url'][index]} due to {e.__class__}.\")\n",
    "\n",
    "async def main():\n",
    "    ret = await asyncio.gather(*[get_url(index) for index in random_indices])\n",
    "    print(\"Finalized all. ret is a list of len {} outputs.\".format(len(ret)))\n",
    "    return ret\n",
    "\n",
    "ret = await main()"
   ]
  },
  {
   "cell_type": "code",
   "execution_count": null,
   "metadata": {},
   "outputs": [],
   "source": [
    "def count_words(text):\n",
    "    words = text.split()\n",
    "    word_count = len(words)\n",
    "    return word_count\n",
    "\n",
    "pd.set_option(\"display.max_rows\", 5)\n",
    "word_counts = df[\"text\"].apply(count_words)\n",
    "df[\"word_count\"] = word_counts"
   ]
  },
  {
   "cell_type": "code",
   "execution_count": null,
   "metadata": {},
   "outputs": [],
   "source": [
    "success = 0\n",
    "for r in ret:\n",
    "    if r:\n",
    "        index, resp = r\n",
    "        try:\n",
    "            soup = BeautifulSoup(resp)\n",
    "            print(f\"index: {index}\\n{df['url'][index]}:\\n{soup.title.text}\\nfake/legit: {df['label'][index]}\\n\")\n",
    "            success += 1\n",
    "        except AttributeError as e:\n",
    "            print(f\"Error with url: {df['url'][index]}\\n{e}\")\n",
    "print(f\"Got {success} / {len(ret)} title elements.\")"
   ]
  },
  {
   "cell_type": "code",
   "execution_count": null,
   "metadata": {},
   "outputs": [],
   "source": [
    "def count_words(text):\n",
    "    words = text.split()\n",
    "    word_count = len(words)\n",
    "    return word_count"
   ]
  },
  {
   "cell_type": "code",
   "execution_count": null,
   "metadata": {},
   "outputs": [],
   "source": [
    "# Generate histogram for article lengths\n",
    "word_counts = df[\"text\"].apply(count_words)\n",
    "import plotly.express as px\n",
    "fig = px.histogram(df, x=\"word_count\", nbins=100, title=\"Number of articles by word count\" , \n",
    "                   labels = {\"word_count\": \"Word count\"})\n",
    "fig.layout.yaxis.title.text = \"Number of articles\"\n",
    "fig.show()\n",
    "\n"
   ]
  },
  {
   "cell_type": "code",
   "execution_count": null,
   "metadata": {},
   "outputs": [],
   "source": [
    "# Save the histogram to be uploaded to the website (with interactivity)\n",
    "fig.write_html(\"histogram.html\", full_html=False, include_plotlyjs=False)"
   ]
  },
  {
   "cell_type": "code",
   "execution_count": null,
   "metadata": {},
   "outputs": [],
   "source": [
    "# Bar chart for research organisations.\n",
    "import plotly.graph_objects as go\n",
    "\n",
    "fig = go.Figure([go.Bar(x=num_of_docs_per_researched_by[\"researched_by\"], y=num_of_docs_per_researched_by[\"num_of_docs\"])])\n",
    "fig.update_layout(\n",
    "    title=\"Number of documents researched per truth warrior organization\",\n",
    "    xaxis_title=\"Organization\",\n",
    "    yaxis_title=\"Number of documents\",\n",
    "    legend_title=\"Legend Title\",\n",
    ")\n",
    "fig.show()"
   ]
  },
  {
   "cell_type": "code",
   "execution_count": 35,
   "metadata": {},
   "outputs": [],
   "source": [
    "fig.write_html(\"./website/_includes/html/documents_researched_per_organization.html\", full_html=False, include_plotlyjs=False)"
   ]
  },
  {
   "cell_type": "code",
   "execution_count": null,
   "metadata": {},
   "outputs": [],
   "source": []
  },
  {
   "cell_type": "code",
   "execution_count": null,
   "metadata": {},
   "outputs": [],
   "source": []
  }
 ],
 "metadata": {
  "kernelspec": {
   "display_name": "Python 3",
   "language": "python",
   "name": "python3"
  },
  "language_info": {
   "codemirror_mode": {
    "name": "ipython",
    "version": 3
   },
   "file_extension": ".py",
   "mimetype": "text/x-python",
   "name": "python",
   "nbconvert_exporter": "python",
   "pygments_lexer": "ipython3",
   "version": "3.8.1"
  }
 },
 "nbformat": 4,
 "nbformat_minor": 4
}
